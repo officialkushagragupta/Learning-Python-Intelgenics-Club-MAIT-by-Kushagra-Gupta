{
 "cells": [
  {
   "cell_type": "code",
   "execution_count": 1,
   "id": "448e5518",
   "metadata": {},
   "outputs": [],
   "source": [
    "normal code\n",
    "#my comment"
   ]
  },
  {
   "cell_type": "markdown",
   "id": "61a3a3a7",
   "metadata": {},
   "source": [
    "# Print "
   ]
  },
  {
   "cell_type": "code",
   "execution_count": 2,
   "id": "58d7d0df",
   "metadata": {},
   "outputs": [
    {
     "name": "stdout",
     "output_type": "stream",
     "text": [
      "lol,my first line of code in python.\n"
     ]
    }
   ],
   "source": [
    "#printing string\n",
    "print(\"lol,my first line of code in python.\")"
   ]
  },
  {
   "cell_type": "code",
   "execution_count": 3,
   "id": "e1eb092b",
   "metadata": {},
   "outputs": [
    {
     "name": "stdout",
     "output_type": "stream",
     "text": [
      "11\n"
     ]
    }
   ],
   "source": [
    "#print a int\n",
    "print(11)"
   ]
  },
  {
   "cell_type": "code",
   "execution_count": 4,
   "id": "b60e6fe5",
   "metadata": {},
   "outputs": [
    {
     "name": "stdout",
     "output_type": "stream",
     "text": [
      "11.2\n"
     ]
    }
   ],
   "source": [
    "#print decimal int\n",
    "print(11.2)"
   ]
  },
  {
   "cell_type": "code",
   "execution_count": 5,
   "id": "408ad6b3",
   "metadata": {},
   "outputs": [
    {
     "name": "stdout",
     "output_type": "stream",
     "text": [
      "My age is : 20\n",
      "My age is :20\n"
     ]
    }
   ],
   "source": [
    "#print int and string\n",
    "\n",
    "#method1\n",
    "print(\"My age is :\" , 20)\n",
    "#method2\n",
    "print(\"My age is :\" + str(20))\n"
   ]
  },
  {
   "cell_type": "code",
   "execution_count": 6,
   "id": "46b509b4",
   "metadata": {},
   "outputs": [
    {
     "data": {
      "text/plain": [
       "str"
      ]
     },
     "execution_count": 6,
     "metadata": {},
     "output_type": "execute_result"
    }
   ],
   "source": [
    "# differnece between \"20\" and 20\n",
    "type(\"20\")"
   ]
  },
  {
   "cell_type": "code",
   "execution_count": 7,
   "id": "f98941a2",
   "metadata": {},
   "outputs": [
    {
     "data": {
      "text/plain": [
       "int"
      ]
     },
     "execution_count": 7,
     "metadata": {},
     "output_type": "execute_result"
    }
   ],
   "source": [
    "type(20)"
   ]
  },
  {
   "cell_type": "code",
   "execution_count": 8,
   "id": "23f014cb",
   "metadata": {},
   "outputs": [
    {
     "name": "stdout",
     "output_type": "stream",
     "text": [
      "12\n"
     ]
    }
   ],
   "source": [
    "#performing calculation\n",
    "print(10+2)"
   ]
  },
  {
   "cell_type": "code",
   "execution_count": 9,
   "id": "d0d0241b",
   "metadata": {},
   "outputs": [
    {
     "name": "stdout",
     "output_type": "stream",
     "text": [
      "36.666666666666664\n"
     ]
    }
   ],
   "source": [
    "# printing till decimall values\n",
    "print(110/3)"
   ]
  },
  {
   "cell_type": "code",
   "execution_count": 10,
   "id": "410dd1e2",
   "metadata": {},
   "outputs": [
    {
     "name": "stdout",
     "output_type": "stream",
     "text": [
      "36\n"
     ]
    }
   ],
   "source": [
    "#printing only divisor\n",
    "print(110//3)"
   ]
  },
  {
   "cell_type": "code",
   "execution_count": 11,
   "id": "56993c59",
   "metadata": {},
   "outputs": [
    {
     "name": "stdout",
     "output_type": "stream",
     "text": [
      "3\n"
     ]
    }
   ],
   "source": [
    "# modulus sign gives us the remainder\n",
    "print(123%4)"
   ]
  },
  {
   "cell_type": "code",
   "execution_count": 12,
   "id": "509749c6",
   "metadata": {},
   "outputs": [
    {
     "name": "stdout",
     "output_type": "stream",
     "text": [
      "10.0\n"
     ]
    }
   ],
   "source": [
    "# finding square root\n",
    "import math\n",
    "print(math.sqrt(100))"
   ]
  },
  {
   "cell_type": "code",
   "execution_count": 13,
   "id": "80d6318c",
   "metadata": {},
   "outputs": [
    {
     "name": "stdout",
     "output_type": "stream",
     "text": [
      "8\n"
     ]
    }
   ],
   "source": [
    "# finding a power b\n",
    "print(2**3)"
   ]
  },
  {
   "cell_type": "code",
   "execution_count": 14,
   "id": "87fc9e4e",
   "metadata": {},
   "outputs": [
    {
     "name": "stdout",
     "output_type": "stream",
     "text": [
      "Kushagra-->harshita-->fineas-->deanis\n"
     ]
    }
   ],
   "source": [
    "#using seprators\n",
    "print(\"Kushagra\",\"harshita\",\"fineas\",\"deanis\",sep='-->')"
   ]
  },
  {
   "cell_type": "code",
   "execution_count": 15,
   "id": "4e1ef0dd",
   "metadata": {},
   "outputs": [
    {
     "name": "stdout",
     "output_type": "stream",
     "text": [
      "Kushagra-->harshita-->fineas-->deanis<"
     ]
    }
   ],
   "source": [
    "#using end statememt\n",
    "print(\"Kushagra\",\"harshita\",\"fineas\",\"deanis\",sep='-->',end='<')"
   ]
  },
  {
   "cell_type": "code",
   "execution_count": 16,
   "id": "a5c661a9",
   "metadata": {},
   "outputs": [
    {
     "name": "stdout",
     "output_type": "stream",
     "text": [
      "20\n",
      "None\n",
      "None\n"
     ]
    }
   ],
   "source": [
    "#Tricky question for you all\n",
    "print(print(print(\"20\")))"
   ]
  },
  {
   "cell_type": "markdown",
   "id": "346f4cc1",
   "metadata": {},
   "source": [
    "# Variables"
   ]
  },
  {
   "cell_type": "code",
   "execution_count": 17,
   "id": "31a03acf",
   "metadata": {},
   "outputs": [
    {
     "name": "stdout",
     "output_type": "stream",
     "text": [
      "10\n"
     ]
    },
    {
     "data": {
      "text/plain": [
       "int"
      ]
     },
     "execution_count": 17,
     "metadata": {},
     "output_type": "execute_result"
    }
   ],
   "source": [
    "#playing with variables\n",
    "a=10\n",
    "print(a)\n",
    "\n",
    "type(a)"
   ]
  },
  {
   "cell_type": "code",
   "execution_count": 18,
   "id": "17df04ee",
   "metadata": {},
   "outputs": [
    {
     "name": "stdout",
     "output_type": "stream",
     "text": [
      "10\n"
     ]
    },
    {
     "data": {
      "text/plain": [
       "str"
      ]
     },
     "execution_count": 18,
     "metadata": {},
     "output_type": "execute_result"
    }
   ],
   "source": [
    "a=\"10\"\n",
    "print(a)\n",
    "\n",
    "type(a)"
   ]
  },
  {
   "cell_type": "code",
   "execution_count": 19,
   "id": "e397d48f",
   "metadata": {},
   "outputs": [
    {
     "name": "stdout",
     "output_type": "stream",
     "text": [
      "31.3\n"
     ]
    }
   ],
   "source": [
    "p=12.2\n",
    "q=19.1\n",
    "print(p+q)"
   ]
  },
  {
   "cell_type": "code",
   "execution_count": 20,
   "id": "97f7a55d",
   "metadata": {},
   "outputs": [
    {
     "name": "stdout",
     "output_type": "stream",
     "text": [
      "(100+5j)\n"
     ]
    }
   ],
   "source": [
    "a=2+2j\n",
    "b=98+3j\n",
    "print(a+b)\n"
   ]
  },
  {
   "cell_type": "code",
   "execution_count": 21,
   "id": "5ae35e2d",
   "metadata": {},
   "outputs": [
    {
     "data": {
      "text/plain": [
       "bool"
      ]
     },
     "execution_count": 21,
     "metadata": {},
     "output_type": "execute_result"
    }
   ],
   "source": [
    "type(8<5)\n"
   ]
  },
  {
   "cell_type": "code",
   "execution_count": 22,
   "id": "45315c99",
   "metadata": {},
   "outputs": [
    {
     "name": "stdout",
     "output_type": "stream",
     "text": [
      "False\n"
     ]
    }
   ],
   "source": [
    "print(8<5)"
   ]
  },
  {
   "cell_type": "code",
   "execution_count": 23,
   "id": "29aeba36",
   "metadata": {},
   "outputs": [
    {
     "name": "stdout",
     "output_type": "stream",
     "text": [
      "hi\n",
      "None\n"
     ]
    }
   ],
   "source": [
    "#delaring multiple variables at a single time\n",
    "l,m,n,o=12,1,\"hi\",None\n",
    "print(n)\n",
    "print(o)"
   ]
  },
  {
   "cell_type": "code",
   "execution_count": 24,
   "id": "efd047b7",
   "metadata": {},
   "outputs": [
    {
     "name": "stdout",
     "output_type": "stream",
     "text": [
      "0\n"
     ]
    }
   ],
   "source": [
    "#suppose we want to declare multiple varible with same value\n",
    "q=w=e=0\n",
    "print(w)"
   ]
  },
  {
   "cell_type": "markdown",
   "id": "8ee27e51",
   "metadata": {},
   "source": [
    "# INPUT"
   ]
  },
  {
   "cell_type": "code",
   "execution_count": 25,
   "id": "763b5237",
   "metadata": {},
   "outputs": [
    {
     "name": "stdout",
     "output_type": "stream",
     "text": [
      "write your name here: Kushagra Gupta\n",
      "your name is:  Kushagra Gupta\n"
     ]
    }
   ],
   "source": [
    "#input as a string\n",
    "name=input(\"write your name here: \")\n",
    "print(\"your name is: \",name)\n"
   ]
  },
  {
   "cell_type": "code",
   "execution_count": 26,
   "id": "1dd54be9",
   "metadata": {},
   "outputs": [
    {
     "name": "stdout",
     "output_type": "stream",
     "text": [
      "Write your age here: 22\n",
      "Your age is:  22\n"
     ]
    },
    {
     "data": {
      "text/plain": [
       "str"
      ]
     },
     "execution_count": 26,
     "metadata": {},
     "output_type": "execute_result"
    }
   ],
   "source": [
    "#input as a int\n",
    "age=input(\"Write your age here: \")\n",
    "print(\"Your age is: \",age)\n",
    "type(age)"
   ]
  },
  {
   "cell_type": "code",
   "execution_count": 27,
   "id": "d6e4a276",
   "metadata": {},
   "outputs": [
    {
     "name": "stdout",
     "output_type": "stream",
     "text": [
      "Enter a delimiter: #\n",
      "Enter a string to split: vd ap 0invsdi niuav # d pidvp\n",
      "['vd ap 0invsdi niuav ', ' d pidvp']\n"
     ]
    }
   ],
   "source": [
    "delimiter = input(\"Enter a delimiter: \")\n",
    "input_string = input(\"Enter a string to split: \")\n",
    "output_list = input_string.split(delimiter)\n",
    "\n",
    "print(output_list)\n"
   ]
  },
  {
   "cell_type": "code",
   "execution_count": 28,
   "id": "9c6c01dc",
   "metadata": {},
   "outputs": [
    {
     "name": "stdout",
     "output_type": "stream",
     "text": [
      "Write your age here: 22\n",
      "Your age is:  22\n"
     ]
    },
    {
     "data": {
      "text/plain": [
       "int"
      ]
     },
     "execution_count": 28,
     "metadata": {},
     "output_type": "execute_result"
    }
   ],
   "source": [
    "#input as a int (correct)\n",
    "age=int(input(\"Write your age here: \"))\n",
    "print(\"Your age is: \",age)\n",
    "type(age)"
   ]
  },
  {
   "cell_type": "code",
   "execution_count": 29,
   "id": "118e3068",
   "metadata": {},
   "outputs": [
    {
     "name": "stdout",
     "output_type": "stream",
     "text": [
      "Enter no.1: 45\n",
      "Enter no.1: 55\n",
      "The sum is :  100\n"
     ]
    }
   ],
   "source": [
    "#program 1  --> sum 2 numbers\n",
    "n1=int(input(\"Enter no.1: \"))\n",
    "n2=int(input(\"Enter no.1: \"))\n",
    "sum=n1+n2\n",
    "print(\"The sum is : \",sum)"
   ]
  },
  {
   "cell_type": "markdown",
   "id": "b384c02b",
   "metadata": {},
   "source": [
    "# ALGEBRIC EXPRESSION IN PYTHON"
   ]
  },
  {
   "cell_type": "code",
   "execution_count": null,
   "id": "b870f60f",
   "metadata": {},
   "outputs": [],
   "source": []
  },
  {
   "cell_type": "markdown",
   "id": "32672dba",
   "metadata": {},
   "source": [
    "# OPERATORS IN PYTHON"
   ]
  },
  {
   "cell_type": "code",
   "execution_count": 31,
   "id": "78b1860c",
   "metadata": {},
   "outputs": [
    {
     "name": "stdout",
     "output_type": "stream",
     "text": [
      "46\n"
     ]
    }
   ],
   "source": [
    "#using + operator\n",
    "print(23+23)"
   ]
  },
  {
   "cell_type": "code",
   "execution_count": 32,
   "id": "2ef83f57",
   "metadata": {
    "scrolled": true
   },
   "outputs": [
    {
     "ename": "TypeError",
     "evalue": "unsupported operand type(s) for +: 'int' and 'str'",
     "output_type": "error",
     "traceback": [
      "\u001b[1;31m---------------------------------------------------------------------------\u001b[0m",
      "\u001b[1;31mTypeError\u001b[0m                                 Traceback (most recent call last)",
      "Input \u001b[1;32mIn [32]\u001b[0m, in \u001b[0;36m<cell line: 1>\u001b[1;34m()\u001b[0m\n\u001b[1;32m----> 1\u001b[0m \u001b[38;5;28mprint\u001b[39m(\u001b[38;5;241;43m23\u001b[39;49m\u001b[38;5;241;43m+\u001b[39;49m\u001b[38;5;124;43m'\u001b[39;49m\u001b[38;5;124;43mhello\u001b[39;49m\u001b[38;5;124;43m'\u001b[39;49m)\n",
      "\u001b[1;31mTypeError\u001b[0m: unsupported operand type(s) for +: 'int' and 'str'"
     ]
    }
   ],
   "source": [
    "print(23+'hello')"
   ]
  },
  {
   "cell_type": "code",
   "execution_count": 33,
   "id": "6497db32",
   "metadata": {},
   "outputs": [
    {
     "name": "stdout",
     "output_type": "stream",
     "text": [
      "hellohello\n"
     ]
    }
   ],
   "source": [
    "print('hello'+'hello')"
   ]
  },
  {
   "cell_type": "code",
   "execution_count": 34,
   "id": "5dbed7f3",
   "metadata": {},
   "outputs": [
    {
     "name": "stdout",
     "output_type": "stream",
     "text": [
      "529\n"
     ]
    }
   ],
   "source": [
    "print(23*23)"
   ]
  },
  {
   "cell_type": "code",
   "execution_count": 35,
   "id": "d9570b44",
   "metadata": {},
   "outputs": [
    {
     "name": "stdout",
     "output_type": "stream",
     "text": [
      "hellohellohello\n"
     ]
    }
   ],
   "source": [
    "print('hello'*3)"
   ]
  },
  {
   "cell_type": "markdown",
   "id": "fa2ed3f5",
   "metadata": {},
   "source": [
    "## remember minus and division doesn't work on strings"
   ]
  },
  {
   "cell_type": "code",
   "execution_count": 36,
   "id": "49529dc9",
   "metadata": {},
   "outputs": [
    {
     "ename": "TypeError",
     "evalue": "unsupported operand type(s) for -: 'str' and 'str'",
     "output_type": "error",
     "traceback": [
      "\u001b[1;31m---------------------------------------------------------------------------\u001b[0m",
      "\u001b[1;31mTypeError\u001b[0m                                 Traceback (most recent call last)",
      "Input \u001b[1;32mIn [36]\u001b[0m, in \u001b[0;36m<cell line: 1>\u001b[1;34m()\u001b[0m\n\u001b[1;32m----> 1\u001b[0m \u001b[38;5;28mprint\u001b[39m(\u001b[38;5;124;43m'\u001b[39;49m\u001b[38;5;124;43mhe\u001b[39;49m\u001b[38;5;124;43m'\u001b[39;49m\u001b[38;5;241;43m-\u001b[39;49m\u001b[38;5;124;43m'\u001b[39;49m\u001b[38;5;124;43mme\u001b[39;49m\u001b[38;5;124;43m'\u001b[39;49m)\n",
      "\u001b[1;31mTypeError\u001b[0m: unsupported operand type(s) for -: 'str' and 'str'"
     ]
    }
   ],
   "source": [
    "print('he'-'me')"
   ]
  },
  {
   "cell_type": "code",
   "execution_count": 37,
   "id": "8c952023",
   "metadata": {},
   "outputs": [
    {
     "ename": "TypeError",
     "evalue": "unsupported operand type(s) for /: 'str' and 'str'",
     "output_type": "error",
     "traceback": [
      "\u001b[1;31m---------------------------------------------------------------------------\u001b[0m",
      "\u001b[1;31mTypeError\u001b[0m                                 Traceback (most recent call last)",
      "Input \u001b[1;32mIn [37]\u001b[0m, in \u001b[0;36m<cell line: 1>\u001b[1;34m()\u001b[0m\n\u001b[1;32m----> 1\u001b[0m \u001b[38;5;28mprint\u001b[39m(\u001b[38;5;124;43m'\u001b[39;49m\u001b[38;5;124;43mje\u001b[39;49m\u001b[38;5;124;43m'\u001b[39;49m\u001b[38;5;241;43m/\u001b[39;49m\u001b[38;5;124;43m'\u001b[39;49m\u001b[38;5;124;43mme\u001b[39;49m\u001b[38;5;124;43m'\u001b[39;49m)\n",
      "\u001b[1;31mTypeError\u001b[0m: unsupported operand type(s) for /: 'str' and 'str'"
     ]
    }
   ],
   "source": [
    "print('je'/'me')"
   ]
  },
  {
   "cell_type": "code",
   "execution_count": 38,
   "id": "dd0f3287",
   "metadata": {},
   "outputs": [
    {
     "name": "stdout",
     "output_type": "stream",
     "text": [
      "8\n"
     ]
    }
   ],
   "source": [
    "#Power of a number\n",
    "print(2**3)"
   ]
  },
  {
   "cell_type": "code",
   "execution_count": 39,
   "id": "436d425f",
   "metadata": {},
   "outputs": [
    {
     "name": "stdout",
     "output_type": "stream",
     "text": [
      "1\n"
     ]
    }
   ],
   "source": [
    "#remainder of a number\n",
    "print(23%2)"
   ]
  },
  {
   "cell_type": "code",
   "execution_count": 40,
   "id": "2b2016f0",
   "metadata": {},
   "outputs": [
    {
     "name": "stdout",
     "output_type": "stream",
     "text": [
      "2\n"
     ]
    }
   ],
   "source": [
    "#integer division\n",
    "print(9//4)"
   ]
  },
  {
   "cell_type": "code",
   "execution_count": 41,
   "id": "5d5b110d",
   "metadata": {},
   "outputs": [
    {
     "name": "stdout",
     "output_type": "stream",
     "text": [
      "2.25\n"
     ]
    }
   ],
   "source": [
    "print(9/4)"
   ]
  },
  {
   "cell_type": "markdown",
   "id": "e1f3bb67",
   "metadata": {},
   "source": [
    "# FUNCTIONS"
   ]
  },
  {
   "cell_type": "code",
   "execution_count": 43,
   "id": "7be65c61",
   "metadata": {},
   "outputs": [
    {
     "name": "stdout",
     "output_type": "stream",
     "text": [
      "Hey there am at my first function\n"
     ]
    }
   ],
   "source": [
    "def my_first_function():\n",
    "    print(\"Hey there am at my first function\")\n",
    "\n",
    "    \n",
    "my_first_function()"
   ]
  },
  {
   "cell_type": "markdown",
   "id": "7d4cff3c",
   "metadata": {},
   "source": [
    "# Conditional Statements\n"
   ]
  },
  {
   "cell_type": "code",
   "execution_count": null,
   "id": "c4f56bf2",
   "metadata": {},
   "outputs": [],
   "source": []
  },
  {
   "cell_type": "markdown",
   "id": "437e7001",
   "metadata": {},
   "source": [
    "# LOOPS"
   ]
  },
  {
   "cell_type": "code",
   "execution_count": 44,
   "id": "5d05ff93",
   "metadata": {},
   "outputs": [],
   "source": [
    "#for"
   ]
  },
  {
   "cell_type": "code",
   "execution_count": 45,
   "id": "80043ff6",
   "metadata": {},
   "outputs": [],
   "source": [
    "#while"
   ]
  },
  {
   "cell_type": "code",
   "execution_count": 46,
   "id": "7518c0d6",
   "metadata": {},
   "outputs": [
    {
     "name": "stdout",
     "output_type": "stream",
     "text": [
      "K\n",
      "u\n",
      "s\n",
      "h\n",
      "a\n",
      "g\n",
      "r\n",
      "a\n"
     ]
    }
   ],
   "source": [
    "#loop on strings\n",
    "str=\"Kushagra\"\n",
    "for i in str:\n",
    "    print(i)\n",
    "    "
   ]
  },
  {
   "cell_type": "markdown",
   "id": "abe814b5",
   "metadata": {},
   "source": [
    "# Lambda Function"
   ]
  },
  {
   "cell_type": "code",
   "execution_count": 47,
   "id": "42d1a43e",
   "metadata": {},
   "outputs": [
    {
     "name": "stdout",
     "output_type": "stream",
     "text": [
      "10\n"
     ]
    }
   ],
   "source": [
    "#Normal zindagi\n",
    "def double(x):\n",
    "    return x*2\n",
    "\n",
    "print(double(5))"
   ]
  },
  {
   "cell_type": "code",
   "execution_count": 49,
   "id": "695f4c28",
   "metadata": {},
   "outputs": [
    {
     "name": "stdout",
     "output_type": "stream",
     "text": [
      "20\n"
     ]
    }
   ],
   "source": [
    "# Mentos Zindagi\n",
    "\n",
    "doble= lambda x : x*2\n",
    "\n",
    "print(doble(10))"
   ]
  },
  {
   "cell_type": "code",
   "execution_count": 51,
   "id": "f4950c8e",
   "metadata": {},
   "outputs": [
    {
     "name": "stdout",
     "output_type": "stream",
     "text": [
      "12\n"
     ]
    }
   ],
   "source": [
    "#using function as a parameter\n",
    "def func(another_func,value):\n",
    "    return another_func(value)+value\n",
    "\n",
    "print(func(double,4))"
   ]
  },
  {
   "cell_type": "code",
   "execution_count": 53,
   "id": "745f12ea",
   "metadata": {},
   "outputs": [
    {
     "name": "stdout",
     "output_type": "stream",
     "text": [
      "12\n"
     ]
    }
   ],
   "source": [
    "#another way of writing the same thing would be\n",
    "print(func(lambda x : x*2,4))"
   ]
  },
  {
   "cell_type": "markdown",
   "id": "4cd0cf4e",
   "metadata": {},
   "source": [
    "# LIST OPERATIONS"
   ]
  },
  {
   "cell_type": "code",
   "execution_count": 54,
   "id": "eb9747b7",
   "metadata": {},
   "outputs": [],
   "source": [
    "#List formation\n",
    "l=[]"
   ]
  },
  {
   "cell_type": "code",
   "execution_count": 56,
   "id": "be3e0e60",
   "metadata": {},
   "outputs": [
    {
     "name": "stdout",
     "output_type": "stream",
     "text": [
      "['a', 'b', 12]\n"
     ]
    }
   ],
   "source": [
    "l=['a','b',12]\n",
    "print(l)"
   ]
  },
  {
   "cell_type": "code",
   "execution_count": 57,
   "id": "0236ed87",
   "metadata": {},
   "outputs": [
    {
     "name": "stdout",
     "output_type": "stream",
     "text": [
      "tha tho,shak tho tha mujhe\n"
     ]
    }
   ],
   "source": [
    "#membership\n",
    "if ('a' in l):\n",
    "    print(\"tha tho,shak tho tha mujhe\")"
   ]
  },
  {
   "cell_type": "code",
   "execution_count": 58,
   "id": "8c1de148",
   "metadata": {},
   "outputs": [
    {
     "name": "stdout",
     "output_type": "stream",
     "text": [
      "['a', 'b', 12, 23]\n"
     ]
    }
   ],
   "source": [
    "#appending\n",
    "l.append(23)\n",
    "print(l)"
   ]
  },
  {
   "cell_type": "code",
   "execution_count": 59,
   "id": "1f4d9637",
   "metadata": {},
   "outputs": [
    {
     "data": {
      "text/plain": [
       "23"
      ]
     },
     "execution_count": 59,
     "metadata": {},
     "output_type": "execute_result"
    }
   ],
   "source": [
    "#pop --> works with index as well\n",
    "l.pop()\n",
    "# print(l)"
   ]
  },
  {
   "cell_type": "code",
   "execution_count": 60,
   "id": "b6b97379",
   "metadata": {},
   "outputs": [
    {
     "name": "stdout",
     "output_type": "stream",
     "text": [
      "['a', 'b', 12]\n"
     ]
    }
   ],
   "source": [
    "print(l)"
   ]
  },
  {
   "cell_type": "code",
   "execution_count": 61,
   "id": "b6f57337",
   "metadata": {},
   "outputs": [
    {
     "name": "stdout",
     "output_type": "stream",
     "text": [
      "3\n"
     ]
    }
   ],
   "source": [
    "#length function in list\n",
    "print(len(l))"
   ]
  },
  {
   "cell_type": "code",
   "execution_count": 62,
   "id": "19d1a19a",
   "metadata": {},
   "outputs": [
    {
     "name": "stdout",
     "output_type": "stream",
     "text": [
      "['apple', 'banana', 'cherry', 'Kushagra', 'tanmay', 123, 1]\n"
     ]
    }
   ],
   "source": [
    "#Extend function in list\n",
    "l = [\"apple\", \"banana\", \"cherry\"]\n",
    "another_l = [\"Kushagra\", \"tanmay\", 123, 1]\n",
    "l.extend(another_l)\n",
    "print(l)"
   ]
  },
  {
   "cell_type": "code",
   "execution_count": 63,
   "id": "82a4e5fb",
   "metadata": {},
   "outputs": [
    {
     "name": "stdout",
     "output_type": "stream",
     "text": [
      "['apple', 'banana', 'cherry', 'Kushagra', 123, 1]\n"
     ]
    }
   ],
   "source": [
    "#remove - removes the first function in list\n",
    "l.remove(\"tanmay\")\n",
    "print(l)"
   ]
  },
  {
   "cell_type": "code",
   "execution_count": 64,
   "id": "31efbf87",
   "metadata": {},
   "outputs": [
    {
     "data": {
      "text/plain": [
       "1"
      ]
     },
     "execution_count": 64,
     "metadata": {},
     "output_type": "execute_result"
    }
   ],
   "source": [
    "#count function\n",
    "l.count(\"apple\")"
   ]
  },
  {
   "cell_type": "code",
   "execution_count": 65,
   "id": "3fd505db",
   "metadata": {},
   "outputs": [
    {
     "name": "stdout",
     "output_type": "stream",
     "text": [
      "[1, 1, 2, 2, 4, 6]\n"
     ]
    }
   ],
   "source": [
    "#Sort function\n",
    "l=[1,2,6,2,1,4]\n",
    "l.sort()\n",
    "print(l)"
   ]
  },
  {
   "cell_type": "code",
   "execution_count": 66,
   "id": "e31f6c63",
   "metadata": {},
   "outputs": [
    {
     "name": "stdout",
     "output_type": "stream",
     "text": [
      "[6, 4, 2, 2, 1, 1]\n"
     ]
    }
   ],
   "source": [
    "#reverse\n",
    "l.reverse()\n",
    "print(l)"
   ]
  },
  {
   "cell_type": "code",
   "execution_count": 67,
   "id": "28d7f2bf",
   "metadata": {},
   "outputs": [
    {
     "data": {
      "text/plain": [
       "[6, 4, 2]"
      ]
     },
     "execution_count": 67,
     "metadata": {},
     "output_type": "execute_result"
    }
   ],
   "source": [
    "#slicing\n",
    "l[:3]\n"
   ]
  },
  {
   "cell_type": "code",
   "execution_count": 68,
   "id": "f2274c2f",
   "metadata": {},
   "outputs": [
    {
     "name": "stdout",
     "output_type": "stream",
     "text": [
      "there is 1\n"
     ]
    }
   ],
   "source": [
    "#membership\n",
    "if(1 in l):\n",
    "    print(\"there is 1\")"
   ]
  },
  {
   "cell_type": "markdown",
   "id": "4b8a0f11",
   "metadata": {},
   "source": [
    "# tuple\n"
   ]
  },
  {
   "cell_type": "code",
   "execution_count": 69,
   "id": "4690329c",
   "metadata": {},
   "outputs": [],
   "source": [
    "#immutable data structure\n",
    "my_tuple = (1, 2, 3, 'four', 'five')\n"
   ]
  },
  {
   "cell_type": "code",
   "execution_count": 70,
   "id": "44ca0c38",
   "metadata": {},
   "outputs": [
    {
     "name": "stdout",
     "output_type": "stream",
     "text": [
      "1\n",
      "four\n"
     ]
    }
   ],
   "source": [
    "#Accessing the data\n",
    "print(my_tuple[0])  # Output: 1\n",
    "print(my_tuple[3])  # Output: 'four'\n"
   ]
  },
  {
   "cell_type": "code",
   "execution_count": 71,
   "id": "6deaae0e",
   "metadata": {},
   "outputs": [
    {
     "name": "stdout",
     "output_type": "stream",
     "text": [
      "(2, 3, 'four')\n"
     ]
    }
   ],
   "source": [
    "#Extract a subset\n",
    "print(my_tuple[1:4])  # Output: (2, 3, 'four')\n"
   ]
  },
  {
   "cell_type": "code",
   "execution_count": 72,
   "id": "d7b16839",
   "metadata": {},
   "outputs": [
    {
     "name": "stdout",
     "output_type": "stream",
     "text": [
      "(1, 2, 3, 4, 5, 6, 'five')\n"
     ]
    }
   ],
   "source": [
    "new_tuple = my_tuple[:3] + (4, 5, 6) + my_tuple[4:]\n",
    "print(new_tuple)  # Output: (1, 2, 3, 4, 5, 6, 'four', 'five')\n"
   ]
  },
  {
   "cell_type": "code",
   "execution_count": 83,
   "id": "1df8e688",
   "metadata": {},
   "outputs": [
    {
     "name": "stdout",
     "output_type": "stream",
     "text": [
      "7\n"
     ]
    }
   ],
   "source": [
    "my_tuple = (1, 2, 3, 4, 5, 2, 3)\n",
    "\n",
    "# Using the len() function\n",
    "print(len(my_tuple))  # Output: 7\n"
   ]
  },
  {
   "cell_type": "code",
   "execution_count": 84,
   "id": "7d778b3f",
   "metadata": {},
   "outputs": [
    {
     "name": "stdout",
     "output_type": "stream",
     "text": [
      "2\n"
     ]
    }
   ],
   "source": [
    "\n",
    "# Using the count() function\n",
    "print(my_tuple.count(2))  # Output: 2\n",
    "\n"
   ]
  },
  {
   "cell_type": "code",
   "execution_count": 85,
   "id": "94e7a6e1",
   "metadata": {},
   "outputs": [
    {
     "name": "stdout",
     "output_type": "stream",
     "text": [
      "2\n"
     ]
    }
   ],
   "source": [
    "# Using the index() function\n",
    "print(my_tuple.index(3))  # Output: 2\n",
    "\n"
   ]
  },
  {
   "cell_type": "code",
   "execution_count": 86,
   "id": "cddf7aa1",
   "metadata": {},
   "outputs": [
    {
     "name": "stdout",
     "output_type": "stream",
     "text": [
      "[1, 2, 2, 3, 3, 4, 5]\n"
     ]
    }
   ],
   "source": [
    "# Using the sorted() function\n",
    "sorted_tuple = sorted(my_tuple)\n",
    "print(sorted_tuple)  # Output: [1, 2, 2, 3, 3, 4, 5]\n",
    "\n"
   ]
  },
  {
   "cell_type": "code",
   "execution_count": 87,
   "id": "dd875ca3",
   "metadata": {},
   "outputs": [
    {
     "name": "stdout",
     "output_type": "stream",
     "text": [
      "(3, 2, 5, 4, 3, 2, 1)\n"
     ]
    }
   ],
   "source": [
    "# Using the reversed() function\n",
    "reversed_tuple = tuple(reversed(my_tuple))\n",
    "print(reversed_tuple)  # Output: (3, 2, 5, 4, 3, 2, 1)\n"
   ]
  },
  {
   "cell_type": "code",
   "execution_count": 74,
   "id": "0d9a42e6",
   "metadata": {},
   "outputs": [
    {
     "name": "stdout",
     "output_type": "stream",
     "text": [
      "(5, 15, 3.0, 2.0, 1.4142135623730951)\n"
     ]
    }
   ],
   "source": [
    "#Very important use case\n",
    "import numpy as np\n",
    "def calculate_stats(numbers):\n",
    "    count = len(numbers)\n",
    "    total = np.sum(numbers)\n",
    "    mean = total / count\n",
    "    variance = np.var(numbers)\n",
    "    std_dev = variance ** 0.5\n",
    "    return count, total, mean, variance, std_dev\n",
    "\n",
    "my_numbers = [1, 2, 3, 4, 5]\n",
    "result = calculate_stats(my_numbers)\n",
    "print(result)\n"
   ]
  },
  {
   "cell_type": "markdown",
   "id": "75dd096d",
   "metadata": {},
   "source": [
    "# DICTIONARIES"
   ]
  },
  {
   "cell_type": "code",
   "execution_count": 75,
   "id": "60b4fefc",
   "metadata": {},
   "outputs": [
    {
     "name": "stdout",
     "output_type": "stream",
     "text": [
      "{'brand': 'Ford', 'electric': False, 'year': 1964, 'colors': ['red', 'white', 'blue']}\n"
     ]
    }
   ],
   "source": [
    "thisdict = {\n",
    "  \"brand\": \"Ford\",\n",
    "  \"electric\": False,\n",
    "  \"year\": 1964,\n",
    "  \"colors\": [\"red\", \"white\", \"blue\"]\n",
    "}\n",
    "print(thisdict)"
   ]
  },
  {
   "cell_type": "code",
   "execution_count": 76,
   "id": "03643bff",
   "metadata": {},
   "outputs": [
    {
     "data": {
      "text/plain": [
       "dict"
      ]
     },
     "execution_count": 76,
     "metadata": {},
     "output_type": "execute_result"
    }
   ],
   "source": [
    "type(thisdict)"
   ]
  },
  {
   "cell_type": "code",
   "execution_count": 77,
   "id": "cf9142b2",
   "metadata": {},
   "outputs": [
    {
     "name": "stdout",
     "output_type": "stream",
     "text": [
      "a\n",
      "b\n",
      "c\n"
     ]
    }
   ],
   "source": [
    "#Accessing keys\n",
    "d={'a' : 1 , 'b' : 2 , 'c' : 3}\n",
    "for i in d.keys():\n",
    "    print(i)"
   ]
  },
  {
   "cell_type": "code",
   "execution_count": 78,
   "id": "29722d67",
   "metadata": {},
   "outputs": [
    {
     "name": "stdout",
     "output_type": "stream",
     "text": [
      "1\n",
      "2\n",
      "3\n"
     ]
    }
   ],
   "source": [
    "#Accessing values\n",
    "for i in d.values():\n",
    "    print(i)"
   ]
  },
  {
   "cell_type": "code",
   "execution_count": 79,
   "id": "f01cebd3",
   "metadata": {},
   "outputs": [
    {
     "name": "stdout",
     "output_type": "stream",
     "text": [
      "a--- >1\n",
      "b--- >2\n",
      "c--- >3\n"
     ]
    }
   ],
   "source": [
    "#printing keys and values together\n",
    "for key,value in d.items():\n",
    "    print(key,value,sep=\"--- >\")"
   ]
  },
  {
   "cell_type": "code",
   "execution_count": 80,
   "id": "28d593ca",
   "metadata": {},
   "outputs": [
    {
     "name": "stdout",
     "output_type": "stream",
     "text": [
      "{'a': 1, 'b': 2, 'c': 3, 'd': 4}\n"
     ]
    }
   ],
   "source": [
    "#Dictionaries are mutable\n",
    "my_dict = {'a': 1, 'b': 2, 'c': 3}\n",
    "my_dict['d'] = 4  # Add a new key-value pair\n",
    "print(my_dict)    # Output: {'a': 1, 'b': 2, 'c': 3, 'd': 4}\n"
   ]
  },
  {
   "cell_type": "code",
   "execution_count": 81,
   "id": "b0a40a33",
   "metadata": {},
   "outputs": [
    {
     "name": "stdout",
     "output_type": "stream",
     "text": [
      "{'a': 1, 'b': 5, 'c': 3}\n"
     ]
    }
   ],
   "source": [
    "my_dict = {'a': 1, 'b': 2, 'c': 3}\n",
    "my_dict['b'] = 5  # Modify the value associated with 'b'\n",
    "print(my_dict)    # Output: {'a': 1, 'b': 5, 'c': 3}\n"
   ]
  },
  {
   "cell_type": "code",
   "execution_count": 82,
   "id": "98045efa",
   "metadata": {},
   "outputs": [
    {
     "name": "stdout",
     "output_type": "stream",
     "text": [
      "{'a': 1, 'b': 2}\n"
     ]
    }
   ],
   "source": [
    "my_dict = {'a': 1, 'b': 2, 'c': 3}\n",
    "del my_dict['c']  # Remove the key-value pair with key 'c'\n",
    "print(my_dict)    # Output: {'a': 1, 'b': 2}\n"
   ]
  },
  {
   "cell_type": "code",
   "execution_count": 88,
   "id": "00da65de",
   "metadata": {},
   "outputs": [
    {
     "name": "stdout",
     "output_type": "stream",
     "text": [
      "{'Kushagra@gmail.com': 'kushagra'}\n"
     ]
    }
   ],
   "source": [
    "#Lets make a program to store id and password in a dictonary\n",
    "\n",
    "d1={}\n",
    "#adding the element ->method 1\n",
    "d1[\"Kushagra@gmail.com\"] = \"kushagra\"\n",
    "\n",
    "print(d1)"
   ]
  },
  {
   "cell_type": "code",
   "execution_count": 90,
   "id": "6b2f48e7",
   "metadata": {},
   "outputs": [
    {
     "name": "stdout",
     "output_type": "stream",
     "text": [
      "{'Kushagra@gmail.com': 'kushagra', 'sagar@gmail.com': 'sagar'}\n"
     ]
    }
   ],
   "source": [
    "#adding the element ->method 2\n",
    "d1.update({\"sagar@gmail.com\":\"sagar\"})\n",
    "print(d1)"
   ]
  },
  {
   "cell_type": "code",
   "execution_count": 91,
   "id": "15c3d7ff",
   "metadata": {},
   "outputs": [
    {
     "name": "stdout",
     "output_type": "stream",
     "text": [
      "Enter your username: Kushagra@gmail.com\n",
      "Username matched\n",
      "Enter your password: kushagra\n",
      "Login successful!\n",
      "invalid username\n"
     ]
    }
   ],
   "source": [
    "str_u=input(\"Enter your username: \")\n",
    "\n",
    "for key,value in d1.items():\n",
    "    if(key==str_u):\n",
    "        print(\"Username matched\")\n",
    "        str_p=input(\"Enter your password: \")\n",
    "        if(value==str_p):\n",
    "            print(\"Login successful!\")\n",
    "        else:\n",
    "            print(\"Login Unsuccessful\")\n",
    "    else:\n",
    "        print(\"invalid username\")\n",
    "    "
   ]
  },
  {
   "cell_type": "code",
   "execution_count": null,
   "id": "cfc1e4eb",
   "metadata": {},
   "outputs": [],
   "source": []
  }
 ],
 "metadata": {
  "kernelspec": {
   "display_name": "Python 3 (ipykernel)",
   "language": "python",
   "name": "python3"
  },
  "language_info": {
   "codemirror_mode": {
    "name": "ipython",
    "version": 3
   },
   "file_extension": ".py",
   "mimetype": "text/x-python",
   "name": "python",
   "nbconvert_exporter": "python",
   "pygments_lexer": "ipython3",
   "version": "3.9.12"
  }
 },
 "nbformat": 4,
 "nbformat_minor": 5
}
